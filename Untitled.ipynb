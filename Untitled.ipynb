{
 "cells": [
  {
   "cell_type": "markdown",
   "id": "54a0a0a3",
   "metadata": {},
   "source": [
    "## Extracting the matrix problem\n",
    "\n",
    "We are interested in solving the problem when there is periodic forcing $j=j_0\\mathrm{e}^{i\\omega t}$. We look for a solution $c=y\\mathrm{e}^{i\\omega t}$ so that our problem becomes \n",
    "\n",
    "$$i \\omega y = D y_{xx}, \\quad \\left. y_x \\right|_{x=0} = 0, \\quad \\left. -Dy_x \\right|_{x=1}=j_0,$$"
   ]
  },
  {
   "cell_type": "code",
   "execution_count": null,
   "id": "701fe9c7",
   "metadata": {},
   "outputs": [],
   "source": [
    "import pybamm"
   ]
  },
  {
   "cell_type": "code",
   "execution_count": null,
   "id": "8c1843d1",
   "metadata": {},
   "outputs": [],
   "source": []
  }
 ],
 "metadata": {
  "kernelspec": {
   "display_name": "Python 3",
   "language": "python",
   "name": "python3"
  },
  "language_info": {
   "codemirror_mode": {
    "name": "ipython",
    "version": 3
   },
   "file_extension": ".py",
   "mimetype": "text/x-python",
   "name": "python",
   "nbconvert_exporter": "python",
   "pygments_lexer": "ipython3",
   "version": "3.8.13"
  }
 },
 "nbformat": 4,
 "nbformat_minor": 5
}
