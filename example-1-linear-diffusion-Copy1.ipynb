{
 "cells": [
  {
   "cell_type": "code",
   "execution_count": 1,
   "id": "7b642127",
   "metadata": {},
   "outputs": [
    {
     "ename": "ModuleNotFoundError",
     "evalue": "No module named 'impedance'",
     "output_type": "error",
     "traceback": [
      "\u001b[0;31m---------------------------------------------------------------------------\u001b[0m",
      "\u001b[0;31mModuleNotFoundError\u001b[0m                       Traceback (most recent call last)",
      "Cell \u001b[0;32mIn [1], line 7\u001b[0m\n\u001b[1;32m      5\u001b[0m \u001b[38;5;28;01mimport\u001b[39;00m \u001b[38;5;21;01mscipy\u001b[39;00m\u001b[38;5;21;01m.\u001b[39;00m\u001b[38;5;21;01msparse\u001b[39;00m\n\u001b[1;32m      6\u001b[0m \u001b[38;5;28;01mimport\u001b[39;00m \u001b[38;5;21;01mtime\u001b[39;00m\n\u001b[0;32m----> 7\u001b[0m \u001b[38;5;28;01mfrom\u001b[39;00m \u001b[38;5;21;01mimpedance\u001b[39;00m \u001b[38;5;28;01mimport\u001b[39;00m calculate_impedance\n\u001b[1;32m      8\u001b[0m \u001b[38;5;28;01mfrom\u001b[39;00m \u001b[38;5;21;01mplotting\u001b[39;00m \u001b[38;5;28;01mimport\u001b[39;00m nyquist_plot\n\u001b[1;32m      9\u001b[0m \u001b[38;5;28;01mfrom\u001b[39;00m \u001b[38;5;21;01mscipy\u001b[39;00m\u001b[38;5;21;01m.\u001b[39;00m\u001b[38;5;21;01msparse\u001b[39;00m\u001b[38;5;21;01m.\u001b[39;00m\u001b[38;5;21;01mlinalg\u001b[39;00m \u001b[38;5;28;01mimport\u001b[39;00m splu\n",
      "\u001b[0;31mModuleNotFoundError\u001b[0m: No module named 'impedance'"
     ]
    }
   ],
   "source": [
    "import pybamm\n",
    "import numpy as np\n",
    "import matplotlib.pyplot as plt\n",
    "import scipy.fft\n",
    "import scipy.sparse\n",
    "import time\n",
    "from impedance import calculate_impedance\n",
    "from plotting import nyquist_plot\n",
    "from scipy.sparse.linalg import splu\n",
    "from scipy.sparse import csc_matrix"
   ]
  },
  {
   "cell_type": "markdown",
   "id": "76caf35b",
   "metadata": {},
   "source": [
    "# Linear diffusion example\n",
    "\n",
    "In this example we use a simple diffusion problem to showcase the methodology for computing the impedance behaviour of a model. The model is\n",
    "\n",
    "$$c_t = D c_{xx}, \\quad \\left. c_x \\right|_{x=0} = 0, \\quad \\left. -Dc_x \\right|_{x=1}=j, \\quad \\left. c \\right|_{t=0}=c_0,$$\n",
    "\n",
    "where $D$ is the (constant) diffusivity, $c_0$ the initial concentration, and $j(t) = \\exp(i\\omega t)$ the prescribed flux. We solve the problem on the interval $[0, 1]$. We assume that the problem has been non-dimensionalised and therefore do not worry about units.\n",
    "\n",
    "We calculate the impedance as $\\left. \\hat{c}\\right|_{x=1} / \\hat{j}$ where a hat denotes the Fourier transform. We can calculate this by either simulating in the time domain and taking the FFT of the result, or by assuming a periodic solution and, after discretising in space, solving the resulting matrix problem.\n",
    "\n",
    "\n",
    "Let's set up our model."
   ]
  },
  {
   "cell_type": "code",
   "execution_count": null,
   "id": "e1a40ffc",
   "metadata": {},
   "outputs": [],
   "source": [
    "class Model(pybamm.BaseModel):\n",
    "    def __init__(self, name=\"Linear diffusion model\"):\n",
    "        super().__init__(name=name)\n",
    "        \n",
    "        self._timescale = pybamm.Scalar(1)\n",
    "        self._length_scales = {\"rod\": pybamm.Scalar(1)}\n",
    "      \n",
    "        # variables\n",
    "        c = pybamm.Variable(\"Concentration\", domain=\"rod\")        \n",
    "        x = pybamm.SpatialVariable(\"x\", domain=\"rod\", coord_sys=\"cartesian\")\n",
    "        \n",
    "        # parameters\n",
    "        D = pybamm.Parameter(\"Diffusivity\")\n",
    "        c0 = pybamm.Parameter(\"Initial concentration\")\n",
    "        j = pybamm.FunctionParameter(\"Applied flux\", {\"Time\": pybamm.t})\n",
    "\n",
    "        # governing equations\n",
    "        N = -D * pybamm.grad(c)  # flux\n",
    "        dcdt = -pybamm.div(N)  # right hand side of the PDE\n",
    "        self.rhs = {c: dcdt} \n",
    "        \n",
    "        # boundary conditions\n",
    "        self.boundary_conditions = {\n",
    "            c: {\n",
    "                \"left\": (pybamm.Scalar(0), \"Neumann\"),\n",
    "                \"right\": (-j / D, \"Neumann\"),\n",
    "            }\n",
    "        }\n",
    "        \n",
    "        # initial conditions\n",
    "        self.initial_conditions = {c: c0}\n",
    "\n",
    "        # populate variables dict\n",
    "        self.variables = {\n",
    "            \"Concentration\": c,\n",
    "            \"Surface concentration\": pybamm.surf(c),\n",
    "            \"Applied flux\": j,\n",
    "            \"Time\": pybamm.t,\n",
    "        }\n",
    "        \n",
    "    @property\n",
    "    def default_geometry(self):\n",
    "        x = pybamm.SpatialVariable(\"x\", domain=\"rod\", coord_sys=\"cartesian\")\n",
    "        return {\"rod\": {x: {\"min\": pybamm.Scalar(0), \"max\": pybamm.Scalar(1)}}}\n",
    "\n",
    "    @property\n",
    "    def default_var_pts(self):\n",
    "        x = pybamm.SpatialVariable(\"x\", domain=\"rod\", coord_sys=\"cartesian\")\n",
    "        return {x: 128}\n",
    "\n",
    "    @property\n",
    "    def default_submesh_types(self):\n",
    "        return {\"rod\": pybamm.Uniform1DSubMesh}\n",
    "\n",
    "    @property\n",
    "    def default_spatial_methods(self):\n",
    "        return {\"rod\": pybamm.FiniteVolume()}\n",
    "        "
   ]
  },
  {
   "cell_type": "markdown",
   "id": "056e2910",
   "metadata": {},
   "source": [
    "Next we choose a range of frequencies to solve over"
   ]
  },
  {
   "cell_type": "code",
   "execution_count": null,
   "id": "cbab6ae5",
   "metadata": {},
   "outputs": [],
   "source": [
    "start_freq = 0.1\n",
    "end_freq = 10\n",
    "num_points = 20\n",
    "\n",
    "omegas = np.exp(np.linspace(np.log(start_freq), np.log(end_freq), num_points))"
   ]
  },
  {
   "cell_type": "markdown",
   "id": "d1583c28",
   "metadata": {},
   "source": [
    "## Solving in the time domain\n",
    "\n",
    "Here we solve the problem by running a simulation in the time domain and taking the FFT of the result.\n",
    "\n",
    "We first load an instance of our model"
   ]
  },
  {
   "cell_type": "code",
   "execution_count": null,
   "id": "760a7a38",
   "metadata": {},
   "outputs": [],
   "source": [
    "model = Model()"
   ]
  },
  {
   "cell_type": "markdown",
   "id": "6bce5572",
   "metadata": {},
   "source": [
    "and define our parameters. We make the frequency an \"input\" that we will loop over."
   ]
  },
  {
   "cell_type": "code",
   "execution_count": null,
   "id": "77072e07",
   "metadata": {},
   "outputs": [],
   "source": [
    "def applied_flux(t):\n",
    "    return pybamm.sin(pybamm.InputParameter(\"Frequency\") * t)\n",
    "    \n",
    "\n",
    "parameter_values = pybamm.ParameterValues(\n",
    "    {\n",
    "        \"Applied flux\": applied_flux,\n",
    "        \"Diffusivity\": 1,\n",
    "        \"Initial concentration\": 1,\n",
    "    },\n",
    ")"
   ]
  },
  {
   "cell_type": "markdown",
   "id": "b8fd5431",
   "metadata": {},
   "source": [
    "Next we create our simulation"
   ]
  },
  {
   "cell_type": "code",
   "execution_count": null,
   "id": "7a0291cc",
   "metadata": {},
   "outputs": [],
   "source": [
    "sim = pybamm.Simulation(model, parameter_values=parameter_values, solver=pybamm.ScipySolver())"
   ]
  },
  {
   "cell_type": "markdown",
   "id": "85ef1880",
   "metadata": {},
   "source": [
    "We then loop over frequencies, solving the model and taking the FFT of the result to calculate the impedance."
   ]
  },
  {
   "cell_type": "code",
   "execution_count": null,
   "id": "3640b539",
   "metadata": {},
   "outputs": [],
   "source": [
    "samples_per_period = 20\n",
    "num_periods = 5\n",
    "c0 = parameter_values[\"Initial concentration\"]\n",
    "\n",
    "zs_time = []\n",
    "start_time = time.time()\n",
    "for omega in omegas:\n",
    "    skip_periods = int(np.floor(4*omega))\n",
    "    total_periods = num_periods + skip_periods\n",
    "\n",
    "    dt = 2 * np.pi / omega / samples_per_period\n",
    "    t_eval = (np.array(range(0, 1 + samples_per_period * total_periods)) * dt)\n",
    "\n",
    "    solution = sim.solve(t_eval, inputs={\"Frequency\": omega})\n",
    "\n",
    "    t = solution[\"Time\"].entries \n",
    "    c = solution[\"Concentration\"].entries[-1, :]\n",
    "\n",
    "    # FFT\n",
    "    c_hat = scipy.fft.fft(c[skip_periods * samples_per_period :] - c0)\n",
    "    x = np.linspace(0, 1 / dt, samples_per_period * num_periods)\n",
    "    i = np.sin(omega * t)\n",
    "    i_hat = scipy.fft.fft(i[skip_periods * samples_per_period :])\n",
    "    # impedance using first harmonic\n",
    "    index = np.argmax(np.abs(i_hat))\n",
    "    z = -c_hat[index] / i_hat[index]\n",
    "    zs_time.append(z)\n",
    "end_time = time.time()\n",
    "time_elapsed = end_time - start_time\n",
    "print(\"Time domain method: \", time_elapsed, \"s\")"
   ]
  },
  {
   "cell_type": "markdown",
   "id": "f0017678",
   "metadata": {},
   "source": [
    "We can make a Nyquist plot of the result"
   ]
  },
  {
   "cell_type": "code",
   "execution_count": null,
   "id": "3206bbc1",
   "metadata": {},
   "outputs": [],
   "source": [
    "nyquist_plot(zs_time);"
   ]
  },
  {
   "cell_type": "markdown",
   "id": "8c0ba2d9",
   "metadata": {},
   "source": [
    "## Solve in the frequency domain\n",
    "\n",
    "We are interested in solving the problem when there is periodic forcing $j=\\hat{j}\\mathrm{e}^{i\\omega t}$. We look for a solution $c=\\hat{c}\\mathrm{e}^{i\\omega t}$ so that our problem becomes \n",
    "\n",
    "$$i \\omega \\hat{c} = D \\hat{c}_{xx}, \\quad \\left. \\hat{c}_x \\right|_{x=0} = 0, \\quad \\left. -D\\hat{c}_x \\right|_{x=1}=\\hat{j}.$$\n",
    "\n",
    "After discretisation using the finite volume method the problem will look like\n",
    "\n",
    "$$ i \\omega \\boldsymbol{\\hat{c}} = J \\boldsymbol{\\hat{c}} + \\boldsymbol{b},$$\n",
    "\n",
    "where\n",
    "\n",
    "$$ \n",
    "J = \\frac{D}{(\\Delta x)^2} \\begin{bmatrix}\n",
    "-1 & 1 &  0 &  & & \\\\\n",
    "1 & -2 & 1 &  & & \\\\\n",
    " & 1 & -2 & 1 & & \\\\\n",
    " &  & \\ddots & \\ddots & \\ddots& \\\\\n",
    " &  & & 1 & -2 & 1  \\\\\n",
    " & &  & 0 & 1 & -1 \n",
    "\\end{bmatrix}\n",
    "$$\n",
    "and\n",
    "$$\n",
    "\\boldsymbol{b} = \\begin{bmatrix}\n",
    "0 \\\\\n",
    "\\vdots \\\\\n",
    "0 \\\\\n",
    "-\\hat{j}/\\Delta x\n",
    "\\end{bmatrix}\n",
    "$$\n",
    "\n",
    "We can then solve this problem for different frequencies to calculate the impedance response. \n",
    "\n",
    "Let's load another instance of our model"
   ]
  },
  {
   "cell_type": "code",
   "execution_count": null,
   "id": "89da78a8",
   "metadata": {},
   "outputs": [],
   "source": [
    "model = Model()"
   ]
  },
  {
   "cell_type": "markdown",
   "id": "d88e8020",
   "metadata": {},
   "source": [
    "and set the parameters. The flux is now just 1 since we have already assumed a periodic solution"
   ]
  },
  {
   "cell_type": "code",
   "execution_count": null,
   "id": "9d8ba558",
   "metadata": {},
   "outputs": [],
   "source": [
    "parameter_values = pybamm.ParameterValues(\n",
    "    {\n",
    "        \"Applied flux\": 1,\n",
    "        \"Diffusivity\": 1,\n",
    "        \"Initial concentration\": 1,\n",
    "    },\n",
    ")"
   ]
  },
  {
   "cell_type": "markdown",
   "id": "d457e9cb",
   "metadata": {},
   "source": [
    "Next we create a simulation and \"build\" the model. This disretises the problem in space. We then \"set up\" the model using the solver - this stage calculates the mass matrix and Jacobian using automatic differentiation. "
   ]
  },
  {
   "cell_type": "code",
   "execution_count": null,
   "id": "6f473845",
   "metadata": {},
   "outputs": [],
   "source": [
    "sim = pybamm.Simulation(model, parameter_values=parameter_values)\n",
    "sim.build()\n",
    "model = sim.built_model\n",
    "solver=pybamm.ScipySolver()\n",
    "solver.set_up(model)"
   ]
  },
  {
   "cell_type": "markdown",
   "id": "d79c091e",
   "metadata": {},
   "source": [
    "Now we are ready to construct the matrix problem"
   ]
  },
  {
   "cell_type": "code",
   "execution_count": null,
   "id": "bdf8b416",
   "metadata": {},
   "outputs": [],
   "source": [
    "y0 = model.concatenated_initial_conditions.entries  # vector of initial conditions\n",
    "J = model.jac_rhs_algebraic_eval(\n",
    "    0, y0, []\n",
    ").sparse()  #  call the Jacobian and return a (sparse) matrix\n",
    "\n",
    "b = model.rhs_algebraic_eval(0, y0, [])\n",
    "M = model.mass_matrix.entries\n",
    "\n",
    "# Add an extra row with just one entry. This is important as the measured output must be\n",
    "# the second to last entry and the forcing the last when using calculate_impedance.\n",
    "# Doing this in this way is inefficient, but the problem is small enough that it's ok.\n",
    "extra_entry = scipy.sparse.csr_matrix([[0]])\n",
    "M = scipy.sparse.block_diag([M, extra_entry])\n",
    "extra_entry[0, 0] = 1\n",
    "J = scipy.sparse.block_diag([J, extra_entry])\n",
    "size = np.shape(J)[0]\n",
    "b = np.reshape(np.append(b, 1), [size, 1])"
   ]
  },
  {
   "cell_type": "markdown",
   "id": "c43845ec",
   "metadata": {},
   "source": [
    "and solve, looping over frequencies,"
   ]
  },
  {
   "cell_type": "code",
   "execution_count": null,
   "id": "8a8911e8",
   "metadata": {},
   "outputs": [],
   "source": [
    "\n",
    "start_time = time.time()\n",
    "M = csc_matrix(M)\n",
    "J = csc_matrix(J)\n",
    "zs_freq = []\n",
    "for omega in omegas:\n",
    "    A = 1.0j * omega * M - J\n",
    "    lu = splu(A)\n",
    "    x = lu.solve(b)\n",
    "    # The model is set up such that the voltage is the penultimate\n",
    "    # entry and the current density variable is the final entry\n",
    "    # Note: current density variable is dimensionless so we need\n",
    "    # include the current scale from the model\n",
    "    x = x\n",
    "    z = x[-2][0] / x[-1][0] \n",
    "    zs_freq.append(z)\n",
    "\n",
    "end_time = time.time()\n",
    "time_elapsed = end_time - start_time\n",
    "print(\"Frequency domain method: \", time_elapsed, \"s\")"
   ]
  },
  {
   "cell_type": "code",
   "execution_count": null,
   "id": "3c6809a8",
   "metadata": {},
   "outputs": [],
   "source": []
  },
  {
   "cell_type": "markdown",
   "id": "c6a4521c",
   "metadata": {},
   "source": [
    "Finally we can create a Nyquist plot"
   ]
  },
  {
   "cell_type": "code",
   "execution_count": null,
   "id": "2418817e",
   "metadata": {},
   "outputs": [],
   "source": [
    "nyquist_plot(zs_freq);"
   ]
  },
  {
   "cell_type": "markdown",
   "id": "66289e3a",
   "metadata": {},
   "source": [
    "## Compare\n",
    "\n",
    "We can compare the results by plotting them both on the same axes"
   ]
  },
  {
   "cell_type": "code",
   "execution_count": null,
   "id": "08978a2b",
   "metadata": {},
   "outputs": [],
   "source": [
    "_, ax = plt.subplots();\n",
    "ax = nyquist_plot(zs_time, ax=ax, label=\"Time\");\n",
    "ax = nyquist_plot(zs_freq, ax=ax, label=\"Frequency\");\n",
    "ax.legend()"
   ]
  },
  {
   "cell_type": "code",
   "execution_count": null,
   "id": "5b43a257",
   "metadata": {},
   "outputs": [],
   "source": []
  }
 ],
 "metadata": {
  "kernelspec": {
   "display_name": "Python 3",
   "language": "python",
   "name": "python3"
  },
  "language_info": {
   "codemirror_mode": {
    "name": "ipython",
    "version": 3
   },
   "file_extension": ".py",
   "mimetype": "text/x-python",
   "name": "python",
   "nbconvert_exporter": "python",
   "pygments_lexer": "ipython3",
   "version": "3.8.14"
  },
  "vscode": {
   "interpreter": {
    "hash": "0aa172841ce802c681a9f425881ff14d7431515039636bfa8960bedf2db368d0"
   }
  }
 },
 "nbformat": 4,
 "nbformat_minor": 5
}
