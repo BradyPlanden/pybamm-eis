{
 "cells": [
  {
   "cell_type": "markdown",
   "id": "ab5c88ee",
   "metadata": {},
   "source": [
    "# Linear diffusion\n",
    "\n",
    "In this example we show how to solve the following problem using PyBaMM:\n",
    "\n",
    "$$c_t = D c_{xx}, \\quad \\left. c_x \\right|_{x=0} = 0, \\quad \\left. -Dc_x \\right|_{x=1}=j, \\quad \\left. c \\right|_{t=0}=c_0,$$\n",
    "\n",
    "where $D$ is the (constant) diffusivity, $c_0$ the initial concentration, and $j(t)$ the prescribed flux (which may be a function of time). We solve the problem on the interval $[0, 1]$. We assume that the problem has been non-dimensionalised and therefore do not worry about units."
   ]
  },
  {
   "cell_type": "markdown",
   "id": "9a056051",
   "metadata": {},
   "source": [
    "## Building the model\n",
    "As always, we start by importing PyBaMM, along with any other packages we require."
   ]
  },
  {
   "cell_type": "code",
   "execution_count": 1,
   "id": "845867c9",
   "metadata": {},
   "outputs": [],
   "source": [
    "import pybamm\n",
    "import numpy as np\n",
    "import matplotlib.pyplot as plt"
   ]
  },
  {
   "cell_type": "markdown",
   "id": "ff5979f8",
   "metadata": {},
   "source": [
    "We then load up an instance of the `pybamm.BaseModel` class."
   ]
  },
  {
   "cell_type": "code",
   "execution_count": 2,
   "id": "c3e95c0b",
   "metadata": {},
   "outputs": [],
   "source": [
    "model = pybamm.BaseModel()"
   ]
  },
  {
   "cell_type": "markdown",
   "id": "9e9ceda1",
   "metadata": {},
   "source": [
    "We now define the model variables and parameters. We also define the spatial variable $x$ here. Since we are solving in 1D we have decided to call the domain \"rod\", but we could name it anything we like. Note that in PyBaMM variables and parameters can be given useful and meaningful names, such as \"Concentration\", so that they can be easily referred to later. Values for the parameters will be provided later."
   ]
  },
  {
   "cell_type": "code",
   "execution_count": 3,
   "id": "b38fc009",
   "metadata": {},
   "outputs": [],
   "source": [
    "x = pybamm.SpatialVariable(\"x\", domain=\"rod\", coord_sys=\"cartesian\")\n",
    "c = pybamm.Variable(\"Concentration\", domain=\"rod\")\n",
    "D = pybamm.Parameter(\"Diffusivity\")\n",
    "c0 = pybamm.Parameter(\"Initial concentration\")"
   ]
  },
  {
   "cell_type": "markdown",
   "id": "5aa02260",
   "metadata": {},
   "source": [
    "The flux $j$ may depend on time, so we make it a `FunctionParameter`, The time variable is already defined as `pybamm.t`"
   ]
  },
  {
   "cell_type": "code",
   "execution_count": 4,
   "id": "1d5baff2",
   "metadata": {},
   "outputs": [],
   "source": [
    "j = pybamm.FunctionParameter(\"Applied flux\", {\"Time\": pybamm.t})"
   ]
  },
  {
   "cell_type": "markdown",
   "id": "bf946bc2",
   "metadata": {},
   "source": [
    "Now that we have defined the variables, we can write down the model equations and add them to the `model.rhs` dictionary. This dictionary stores the right hand sides of any time-dependent differential equations (ordinary or partial). The key is the variable inside the time derivative (in this case $c$)."
   ]
  },
  {
   "cell_type": "code",
   "execution_count": 5,
   "id": "67a0b4d4",
   "metadata": {},
   "outputs": [],
   "source": [
    "N = - D * pybamm.grad(c)  # The flux \n",
    "dcdt = - pybamm.div(N)  # The right hand side of the PDE\n",
    "model.rhs = {c: dcdt}  # Add to model"
   ]
  },
  {
   "cell_type": "markdown",
   "id": "aaa9a552",
   "metadata": {},
   "source": [
    "We now add the boundary conditions into the `model.boundary_conditions` dictionary. The keys of the dictionary indicate which end of the boundary the condition is applied to (in 1D this can be \"left\" or \"right\"), the entry is then give as a tuple of the value and type."
   ]
  },
  {
   "cell_type": "code",
   "execution_count": 6,
   "id": "6b56864a",
   "metadata": {},
   "outputs": [],
   "source": [
    "model.boundary_conditions = {\n",
    "    c: {\n",
    "        \"left\": (pybamm.Scalar(0), \"Neumann\"),\n",
    "        \"right\": (-j / D, \"Neumann\"),\n",
    "    }\n",
    "}"
   ]
  },
  {
   "cell_type": "markdown",
   "id": "a153365b",
   "metadata": {},
   "source": [
    "We also need to add the initial conditions to the `model.initial_conditions` dictionary."
   ]
  },
  {
   "cell_type": "code",
   "execution_count": 7,
   "id": "27d3317b",
   "metadata": {},
   "outputs": [],
   "source": [
    "model.initial_conditions = {c: c0}"
   ]
  },
  {
   "cell_type": "markdown",
   "id": "a7349c42",
   "metadata": {},
   "source": [
    "Finally, we add any output variables to the `model.variables` dictionary. These variables can be easily accessed after the model has been solved. You can add any variables of interest to this dictionary. Here we have added the concentration, surface concentration, flux, and time."
   ]
  },
  {
   "cell_type": "code",
   "execution_count": 8,
   "id": "7b4d8fc8",
   "metadata": {},
   "outputs": [],
   "source": [
    "model.variables = {\n",
    "    \"Concentration\": c, \n",
    "    \"Surface concentration\": pybamm.surf(c),\n",
    "    \"Applied flux\": j,\n",
    "    \"Time\": pybamm.t,\n",
    "}"
   ]
  },
  {
   "cell_type": "markdown",
   "id": "2a9d5e1a",
   "metadata": {},
   "source": [
    "## Using the model\n",
    "Now that the model has been constructed we can go ahead and define our geometry and parameter values. We start by defining the geometry for our \"rod\" domain. We need to define the spatial direction(s) in which spatial operators act (such as gradients). In this case it is simply $x$. We then set the minimum and maximum values $x$ can take. In this example we are solving the problem on the domain $0<x<1$."
   ]
  },
  {
   "cell_type": "code",
   "execution_count": 9,
   "id": "e1050a79",
   "metadata": {},
   "outputs": [],
   "source": [
    "geometry = {\"rod\": {x: {\"min\": pybamm.Scalar(0), \"max\": pybamm.Scalar(1)}}}"
   ]
  },
  {
   "cell_type": "markdown",
   "id": "40ac61c2",
   "metadata": {},
   "source": [
    "We also need to provide the values of any parameters using the `pybamm.ParameterValues` class. This class accepts a dictionary of parameter names and values. Note that the name we provide is the string name of the parameters and not its symbol. For parameters that are functions we can define the function and pass it directly to `pybamm.ParameterValues`."
   ]
  },
  {
   "cell_type": "code",
   "execution_count": 10,
   "id": "3a1ffd86",
   "metadata": {},
   "outputs": [],
   "source": [
    "def applied_flux_function(A, omega):\n",
    "    \"Flux must return a function of time only\"\n",
    "    def applied_flux(t):\n",
    "        return A * pybamm.sin(2 * np.pi * omega * t)\n",
    "    \n",
    "    return applied_flux\n",
    "\n",
    "\n",
    "# Choose amplitude and frequency \n",
    "A = 2\n",
    "omega = 5\n",
    "\n",
    "# Define parameter values object\n",
    "param = pybamm.ParameterValues(\n",
    "    {\n",
    "        \"Applied flux\": applied_flux_function(A, omega),\n",
    "        \"Applied flux\": 1,\n",
    "        \"Diffusivity\": 1,\n",
    "        \"Initial concentration\": 1,\n",
    "    },\n",
    ")"
   ]
  },
  {
   "cell_type": "markdown",
   "id": "65dad7e6",
   "metadata": {},
   "source": [
    "Now that we have defined the geometry and provided the parameters values, we can process the model."
   ]
  },
  {
   "cell_type": "code",
   "execution_count": 11,
   "id": "c65f652c",
   "metadata": {},
   "outputs": [],
   "source": [
    "param.process_model(model)\n",
    "param.process_geometry(geometry)"
   ]
  },
  {
   "cell_type": "markdown",
   "id": "5dc67c3e",
   "metadata": {},
   "source": [
    "Before we disctretise the spatial operators, we must choose and mesh and a spatial method. Here we choose to use a uniformly spaced 1D mesh with 30 points, and discretise the equations in space using the finite volume method. The information about the mesh is stored in a `pybamm.Mesh` object, wheres the spatial methods are stored in a dictionary which maps domain names to a spatial method. This allows the user to discretise different (sub)domains in a problem using different spatial methods. All of this information goes into a `pybamm.Discretisation` object, which accepts a mesh and a dictionary of spatial methods."
   ]
  },
  {
   "cell_type": "code",
   "execution_count": 12,
   "id": "022efbeb",
   "metadata": {},
   "outputs": [],
   "source": [
    "submesh_types = {\"rod\": pybamm.Uniform1DSubMesh}\n",
    "var_pts = {x: 8}\n",
    "mesh = pybamm.Mesh(geometry, submesh_types, var_pts)\n",
    "spatial_methods = {\"rod\": pybamm.FiniteVolume()}\n",
    "disc = pybamm.Discretisation(mesh, spatial_methods)"
   ]
  },
  {
   "cell_type": "markdown",
   "id": "427a86d0",
   "metadata": {},
   "source": [
    "The model is then processed using the discretisation, turning the spaital operators into matrix-vector multiplications."
   ]
  },
  {
   "cell_type": "code",
   "execution_count": 13,
   "id": "f61aa7b7",
   "metadata": {},
   "outputs": [
    {
     "data": {
      "text/plain": [
       "<pybamm.models.base_model.BaseModel at 0x7fc788949100>"
      ]
     },
     "execution_count": 13,
     "metadata": {},
     "output_type": "execute_result"
    }
   ],
   "source": [
    "disc.process_model(model)"
   ]
  },
  {
   "cell_type": "markdown",
   "id": "19b81935",
   "metadata": {},
   "source": [
    "Now that the model has been discretised we are ready to solve. We must first choose a solver to use. For this model we choose the Scipy ODE solver, but other solvers are available in PyBaMM (see [here](https://pybamm.readthedocs.io/en/latest/source/solvers/index.html)). To solve the model, we use the method `solver.solve` which takes in a model and an array of times at which we would like the solution to be returned. Ths solution is then stored in the `solution` object. The times and states can be accessed with `solver.t` and `solver.y`."
   ]
  },
  {
   "cell_type": "code",
   "execution_count": 15,
   "id": "6c5ea5c8",
   "metadata": {},
   "outputs": [],
   "source": [
    "# Choose solver\n",
    "solver = pybamm.ScipySolver()\n",
    "\n",
    "# Example: simulate for 10/omega seconds\n",
    "simulation_time = 10/omega  # end time in seconds\n",
    "npts = int(60 * simulation_time * omega)  # need enough timesteps to resolve output\n",
    "t_eval = np.linspace(0, simulation_time, npts)\n",
    "solution = solver.solve(model, t_eval)"
   ]
  },
  {
   "cell_type": "markdown",
   "id": "5614cf96",
   "metadata": {},
   "source": [
    "We can create a slider plot of the results using `dynamic_plot`. We pass in the solution and a list of the variables we would like to plot"
   ]
  },
  {
   "cell_type": "code",
   "execution_count": 16,
   "id": "761df158",
   "metadata": {},
   "outputs": [
    {
     "name": "stderr",
     "output_type": "stream",
     "text": [
      "2022-09-13 15:21:21.171 - [WARNING] processed_variable.get_spatial_scale(501): No length scale set for rod. Using default of 1 [m].\n"
     ]
    },
    {
     "data": {
      "application/vnd.jupyter.widget-view+json": {
       "model_id": "fa577fd10db8436b9cfe81f21afe2604",
       "version_major": 2,
       "version_minor": 0
      },
      "text/plain": [
       "interactive(children=(FloatSlider(value=0.0, description='t', max=2.0, step=0.02), Output()), _dom_classes=('w…"
      ]
     },
     "metadata": {},
     "output_type": "display_data"
    },
    {
     "data": {
      "text/plain": [
       "<pybamm.plotting.quick_plot.QuickPlot at 0x7fc788921790>"
      ]
     },
     "execution_count": 16,
     "metadata": {},
     "output_type": "execute_result"
    }
   ],
   "source": [
    "pybamm.dynamic_plot(solution, [\"Concentration\", \"Surface concentration\", \"Applied flux\"])"
   ]
  },
  {
   "cell_type": "markdown",
   "id": "e005339b",
   "metadata": {},
   "source": [
    "We can access the solution data by indexing into the solution object like a dictionary and calling entries attribute. Note this will raise a warning that we haven't set a length scale for our model. We can safely ignore this."
   ]
  },
  {
   "cell_type": "code",
   "execution_count": 17,
   "id": "c5ecbf02",
   "metadata": {},
   "outputs": [],
   "source": [
    "t = solution[\"Time\"].entries  # array of size `Nt`\n",
    "c = solution[\"Concentration\"].entries  # array of size `Nx` by `Nt`"
   ]
  },
  {
   "cell_type": "markdown",
   "id": "7f2e6946",
   "metadata": {},
   "source": [
    "These arrays can be used to create a custom plot or as a part of other calculations."
   ]
  },
  {
   "cell_type": "markdown",
   "id": "245f4a0f",
   "metadata": {},
   "source": [
    "## Extracting the matrix problem\n",
    "\n",
    "We are interested in solving the problem when there is periodic forcing $j=j_0\\mathrm{e}^{i\\omega t}$. We look for a solution $c=y\\mathrm{e}^{i\\omega t}$ so that our problem becomes \n",
    "\n",
    "$$i \\omega y = D y_{xx}, \\quad \\left. y_x \\right|_{x=0} = 0, \\quad \\left. -Dy_x \\right|_{x=1}=j_0,$$"
   ]
  },
  {
   "cell_type": "code",
   "execution_count": 18,
   "id": "db09fc84",
   "metadata": {},
   "outputs": [],
   "source": [
    "y0 = solution.first_state\n",
    "jac = model.jac_rhs_algebraic_eval(0, y0, []).full()"
   ]
  },
  {
   "cell_type": "code",
   "execution_count": 19,
   "id": "40bc759a",
   "metadata": {},
   "outputs": [],
   "source": [
    "f = model.rhs_algebraic_eval(solution.t[0], solution.y[:, 0], [])"
   ]
  },
  {
   "cell_type": "code",
   "execution_count": 20,
   "id": "006bd11e",
   "metadata": {},
   "outputs": [
    {
     "data": {
      "text/plain": [
       "DM([0, 0, 0, 0, 0, 0, 0, -8])"
      ]
     },
     "execution_count": 20,
     "metadata": {},
     "output_type": "execute_result"
    }
   ],
   "source": [
    "f"
   ]
  },
  {
   "cell_type": "code",
   "execution_count": 21,
   "id": "a51272ab",
   "metadata": {},
   "outputs": [
    {
     "data": {
      "text/plain": [
       "array([[ -64.,   64.,    0.,    0.,    0.,    0.,    0.,    0.],\n",
       "       [  64., -128.,   64.,    0.,    0.,    0.,    0.,    0.],\n",
       "       [   0.,   64., -128.,   64.,    0.,    0.,    0.,    0.],\n",
       "       [   0.,    0.,   64., -128.,   64.,    0.,    0.,    0.],\n",
       "       [   0.,    0.,    0.,   64., -128.,   64.,    0.,    0.],\n",
       "       [   0.,    0.,    0.,    0.,   64., -128.,   64.,    0.],\n",
       "       [   0.,    0.,    0.,    0.,    0.,   64., -128.,   64.],\n",
       "       [   0.,    0.,    0.,    0.,    0.,    0.,   64.,  -64.]])"
      ]
     },
     "execution_count": 21,
     "metadata": {},
     "output_type": "execute_result"
    }
   ],
   "source": [
    "jac"
   ]
  },
  {
   "cell_type": "code",
   "execution_count": null,
   "id": "9582e2a0",
   "metadata": {},
   "outputs": [],
   "source": []
  }
 ],
 "metadata": {
  "kernelspec": {
   "display_name": "Python 3",
   "language": "python",
   "name": "python3"
  },
  "language_info": {
   "codemirror_mode": {
    "name": "ipython",
    "version": 3
   },
   "file_extension": ".py",
   "mimetype": "text/x-python",
   "name": "python",
   "nbconvert_exporter": "python",
   "pygments_lexer": "ipython3",
   "version": "3.8.13"
  }
 },
 "nbformat": 4,
 "nbformat_minor": 5
}
